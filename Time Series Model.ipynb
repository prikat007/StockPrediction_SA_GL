{
 "cells": [
  {
   "cell_type": "markdown",
   "metadata": {},
   "source": [
    "# Stock-Price - Time Series Analysis and Modelling\n",
    "\n",
    "    - Averaging and smoothing models, ARIMA models (statistical time-series modeling)"
   ]
  },
  {
   "cell_type": "code",
   "execution_count": 1,
   "metadata": {
    "hide_input": true
   },
   "outputs": [],
   "source": [
    "# ignore warnings\n",
    "from warnings import filterwarnings\n",
    "filterwarnings(\"ignore\")\n",
    "\n",
    "import numpy as np\n",
    "import pandas as pd\n",
    "import matplotlib.pyplot as plt\n",
    "import seaborn as sns\n",
    "\n",
    "from dateutil.relativedelta import relativedelta # working with dates with style\n",
    "from scipy.optimize import minimize\n",
    "\n",
    "from sklearn.preprocessing import MinMaxScaler\n",
    "scaler = MinMaxScaler(feature_range=(0, 1))\n",
    "\n",
    "from sklearn.metrics import r2_score, median_absolute_error, mean_absolute_error\n",
    "from sklearn.metrics import median_absolute_error, mean_squared_error, mean_squared_log_error\n",
    "from sklearn.model_selection import TimeSeriesSplit\n",
    "\n",
    "import statsmodels.formula.api as smf # statistics and econometrics\n",
    "import statsmodels.tsa.api as smt\n",
    "import statsmodels.api as sm\n",
    "from statsmodels.tsa.stattools import adfuller\n",
    "import scipy.stats as scs\n",
    "\n",
    "from itertools import product\n",
    "from tqdm import tqdm_notebook\n",
    "\n",
    "# set plotting style\n",
    "%matplotlib inline\n",
    "sns.set()\n",
    "\n",
    "# set formatting\n",
    "pd.set_option('display.max_columns', 100)\n",
    "pd.set_option('display.max_rows', 100)"
   ]
  },
  {
   "cell_type": "code",
   "execution_count": 2,
   "metadata": {
    "hide_input": true
   },
   "outputs": [],
   "source": [
    "# MAPE metric\n",
    "def mean_absolute_percentage_error(y_true, y_pred):\n",
    "    return np.mean(np.abs((y_true - y_pred) / y_true)) * 100"
   ]
  },
  {
   "cell_type": "markdown",
   "metadata": {},
   "source": [
    "## Read and Process data"
   ]
  },
  {
   "cell_type": "code",
   "execution_count": 3,
   "metadata": {
    "hide_input": true
   },
   "outputs": [],
   "source": [
    "stock_price = pd.read_csv('Infy_raw.csv')\n",
    "stock_price['Date'] = pd.to_datetime(stock_price['Date'], format='%d-%m-%Y')\n",
    "stock_price.drop(['Symbol', 'Series', 'Prev Close', 'Open', 'High', 'Low', 'Last', 'VWAP', 'Volume', 'Turnover', 'Trades', 'Deliverable Volume', '%Deliverble'], axis=1, inplace=True)\n",
    "stock_price.index = stock_price['Date']"
   ]
  },
  {
   "cell_type": "markdown",
   "metadata": {},
   "source": [
    "## Time Series Analysis"
   ]
  },
  {
   "cell_type": "code",
   "execution_count": 4,
   "metadata": {
    "hide_input": true
   },
   "outputs": [
    {
     "data": {
      "text/html": [
       "<div>\n",
       "<style scoped>\n",
       "    .dataframe tbody tr th:only-of-type {\n",
       "        vertical-align: middle;\n",
       "    }\n",
       "\n",
       "    .dataframe tbody tr th {\n",
       "        vertical-align: top;\n",
       "    }\n",
       "\n",
       "    .dataframe thead th {\n",
       "        text-align: right;\n",
       "    }\n",
       "</style>\n",
       "<table border=\"1\" class=\"dataframe\">\n",
       "  <thead>\n",
       "    <tr style=\"text-align: right;\">\n",
       "      <th></th>\n",
       "      <th>Date</th>\n",
       "      <th>Close</th>\n",
       "    </tr>\n",
       "    <tr>\n",
       "      <th>Date</th>\n",
       "      <th></th>\n",
       "      <th></th>\n",
       "    </tr>\n",
       "  </thead>\n",
       "  <tbody>\n",
       "    <tr>\n",
       "      <th>2014-01-01</th>\n",
       "      <td>2014-01-01</td>\n",
       "      <td>433.50000</td>\n",
       "    </tr>\n",
       "    <tr>\n",
       "      <th>2014-01-02</th>\n",
       "      <td>2014-01-02</td>\n",
       "      <td>435.06875</td>\n",
       "    </tr>\n",
       "    <tr>\n",
       "      <th>2014-01-03</th>\n",
       "      <td>2014-01-03</td>\n",
       "      <td>445.64375</td>\n",
       "    </tr>\n",
       "    <tr>\n",
       "      <th>2014-01-06</th>\n",
       "      <td>2014-01-06</td>\n",
       "      <td>439.73750</td>\n",
       "    </tr>\n",
       "    <tr>\n",
       "      <th>2014-01-07</th>\n",
       "      <td>2014-01-07</td>\n",
       "      <td>432.14375</td>\n",
       "    </tr>\n",
       "  </tbody>\n",
       "</table>\n",
       "</div>"
      ],
      "text/plain": [
       "                 Date      Close\n",
       "Date                            \n",
       "2014-01-01 2014-01-01  433.50000\n",
       "2014-01-02 2014-01-02  435.06875\n",
       "2014-01-03 2014-01-03  445.64375\n",
       "2014-01-06 2014-01-06  439.73750\n",
       "2014-01-07 2014-01-07  432.14375"
      ]
     },
     "execution_count": 4,
     "metadata": {},
     "output_type": "execute_result"
    }
   ],
   "source": [
    "# look at data\n",
    "stock_price.head()"
   ]
  },
  {
   "cell_type": "code",
   "execution_count": 5,
   "metadata": {
    "hide_input": true
   },
   "outputs": [
    {
     "data": {
      "text/plain": [
       "(1300, 2)"
      ]
     },
     "execution_count": 5,
     "metadata": {},
     "output_type": "execute_result"
    }
   ],
   "source": [
    "# look a shape of data\n",
    "stock_price.shape"
   ]
  },
  {
   "cell_type": "code",
   "execution_count": 6,
   "metadata": {
    "hide_input": true
   },
   "outputs": [
    {
     "name": "stdout",
     "output_type": "stream",
     "text": [
      "<class 'pandas.core.frame.DataFrame'>\n",
      "DatetimeIndex: 1300 entries, 2014-01-01 to 2019-04-05\n",
      "Data columns (total 2 columns):\n",
      "Date     1300 non-null datetime64[ns]\n",
      "Close    1300 non-null float64\n",
      "dtypes: datetime64[ns](1), float64(1)\n",
      "memory usage: 30.5 KB\n"
     ]
    }
   ],
   "source": [
    "# look at data types\n",
    "stock_price.info()"
   ]
  },
  {
   "cell_type": "code",
   "execution_count": 7,
   "metadata": {
    "hide_input": true
   },
   "outputs": [
    {
     "data": {
      "text/plain": [
       "Date     False\n",
       "Close    False\n",
       "dtype: bool"
      ]
     },
     "execution_count": 7,
     "metadata": {},
     "output_type": "execute_result"
    }
   ],
   "source": [
    "# see if any columns have nulls.\n",
    "stock_price.isnull().any()"
   ]
  },
  {
   "cell_type": "markdown",
   "metadata": {},
   "source": [
    "### Plot data\n",
    "* Appears to be an overall increasing trend.\n",
    "* Clearly, you see that this is not a stationary process, and it is hard to tell if there is some kind of seasonality."
   ]
  },
  {
   "cell_type": "code",
   "execution_count": 8,
   "metadata": {},
   "outputs": [
    {
     "data": {
      "image/png": "[encoded data removed]",
      "text/plain": [
       "<Figure size 1224x576 with 1 Axes>"
      ]
     },
     "metadata": {},
     "output_type": "display_data"
    }
   ],
   "source": [
    "# Show graph\n",
    "plt.figure(figsize=(17, 8))\n",
    "plt.plot(stock_price.Close)\n",
    "plt.title('Closing price of Infosys (INFY)')\n",
    "plt.ylabel('Closing price')\n",
    "plt.xlabel('Trading day')\n",
    "plt.grid(True)\n",
    "plt.show()\n",
    "plt.close()"
   ]
  },
  {
   "cell_type": "markdown",
   "metadata": {},
   "source": [
    "### Look at stationarity (A time series with a trend is called non-stationary)\n",
    "\n",
    "Stationarity is a statistical assumption that a time-series has:\n",
    "- Constant mean\n",
    "- Constant variance\n",
    "- Autocovariance does not depend on time"
   ]
  },
  {
   "cell_type": "markdown",
   "metadata": {},
   "source": [
    "#### Summary Statistics"
   ]
  },
  {
   "cell_type": "code",
   "execution_count": 9,
   "metadata": {},
   "outputs": [
    {
     "name": "stdout",
     "output_type": "stream",
     "text": [
      "mean1=512.167731, mean2=566.904077\n",
      "variance1=4122.179548, variance2=9255.581877\n"
     ]
    }
   ],
   "source": [
    "split = int(len(stock_price) / 2)\n",
    "X1, X2 = stock_price['Close'][0:split], stock_price['Close'][split:]\n",
    "mean1, mean2 = X1.mean(), X2.mean()\n",
    "var1, var2 = X1.var(), X2.var()\n",
    "print('mean1=%f, mean2=%f' % (mean1, mean2))\n",
    "print('variance1=%f, variance2=%f' % (var1, var2))"
   ]
  },
  {
   "cell_type": "markdown",
   "metadata": {},
   "source": [
    "#### Augmented Dickey-Fuller test"
   ]
  },
  {
   "cell_type": "code",
   "execution_count": 10,
   "metadata": {},
   "outputs": [],
   "source": [
    "def test_stationarity(df, ts):\n",
    "    \"\"\"\n",
    "    Test stationarity using moving average statistics and Dickey-Fuller test\n",
    "    Source: https://www.analyticsvidhya.com/blog/2016/02/time-series-forecasting-codes-python/\n",
    "    \"\"\"\n",
    "    \n",
    "    # Determing rolling statistics\n",
    "    rolmean = df[ts].rolling(window = 12, center = False).mean()\n",
    "    rolstd = df[ts].rolling(window = 12, center = False).std()\n",
    "    \n",
    "    # Plot rolling statistics:\n",
    "    orig = plt.plot(df[ts], \n",
    "                    color = 'blue', \n",
    "                    label = 'Original')\n",
    "    mean = plt.plot(rolmean, \n",
    "                    color = 'red', \n",
    "                    label = 'Rolling Mean')\n",
    "    std = plt.plot(rolstd, \n",
    "                   color = 'black', \n",
    "                   label = 'Rolling Std')\n",
    "    plt.legend(loc = 'best')\n",
    "    plt.title('Rolling Mean & Standard Deviation for %s' %(ts))\n",
    "    plt.xticks(rotation = 45)\n",
    "    plt.show(block = False)\n",
    "    plt.close()\n",
    "    \n",
    "    # Perform Dickey-Fuller test:\n",
    "    # Null Hypothesis (H_0): time series is not stationary\n",
    "    # Alternate Hypothesis (H_1): time series is stationary\n",
    "    print('Results of Dickey-Fuller Test:')\n",
    "    dftest = adfuller(df[ts], \n",
    "                      autolag='AIC')\n",
    "    dfoutput = pd.Series(dftest[0:4], \n",
    "                         index = ['Test Statistic',\n",
    "                                  'p-value',\n",
    "                                  '# Lags Used',\n",
    "                                  'Number of Observations Used'])\n",
    "    for key, value in dftest[4].items():\n",
    "        dfoutput['Critical Value (%s)'%key] = value\n",
    "    print(dfoutput)"
   ]
  },
  {
   "cell_type": "code",
   "execution_count": 11,
   "metadata": {},
   "outputs": [
    {
     "data": {
      "image/png": "[encoded data removed]",
      "text/plain": [
       "<Figure size 432x288 with 1 Axes>"
      ]
     },
     "metadata": {},
     "output_type": "display_data"
    },
    {
     "name": "stdout",
     "output_type": "stream",
     "text": [
      "Results of Dickey-Fuller Test:\n",
      "Test Statistic                   -0.834694\n",
      "p-value                           0.808718\n",
      "# Lags Used                       2.000000\n",
      "Number of Observations Used    1297.000000\n",
      "Critical Value (1%)              -3.435402\n",
      "Critical Value (5%)              -2.863771\n",
      "Critical Value (10%)             -2.567958\n",
      "dtype: float64\n"
     ]
    }
   ],
   "source": [
    "test_stationarity(df = stock_price, ts = 'Close')"
   ]
  },
  {
   "cell_type": "markdown",
   "metadata": {},
   "source": [
    "#### Decomposing to choose the model (ARMA/ARIMA/SARIMA/etc)"
   ]
  },
  {
   "cell_type": "markdown",
   "metadata": {},
   "source": [
    "y(t) = Level × Trend × Seasonality × Noise\n",
    "\n",
    "* Level: The average value in the series.\n",
    "* Trend: The increasing or decreasing value in the series.\n",
    "* Seasonality: The repeating short-term cycle in the series. 􏰀 \n",
    "* Noise: The random variation in the series."
   ]
  },
  {
   "cell_type": "code",
   "execution_count": 12,
   "metadata": {},
   "outputs": [],
   "source": [
    "from statsmodels.tsa.seasonal import seasonal_decompose"
   ]
  },
  {
   "cell_type": "code",
   "execution_count": 13,
   "metadata": {},
   "outputs": [
    {
     "data": {
      "image/png": "[encoded data removed]",
      "text/plain": [
       "<Figure size 432x288 with 4 Axes>"
      ]
     },
     "metadata": {},
     "output_type": "display_data"
    }
   ],
   "source": [
    "result = seasonal_decompose(stock_price['Close'], model='additive', freq=1)\n",
    "result.plot()\n",
    "plt.show()"
   ]
  },
  {
   "cell_type": "markdown",
   "metadata": {},
   "source": [
    "we are gonna use ARIMA model since it is non-stationary and there is no seasonality"
   ]
  },
  {
   "cell_type": "markdown",
   "metadata": {},
   "source": [
    "#### Determine p, q and d for ARIMA\n",
    "\n",
    "A standard notation is used of ARIMA(p,d,q) where the parameters are substituted with integer values to quickly indicate the specific ARIMA model being used. The parameters of the ARIMA model are defined as follows:\n",
    "􏰀\n",
    "- p: The number of lag observations included in the model, also called the lag order.\n",
    "- d: The number of times that the raw observations are differenced, also called the degree\n",
    "of differencing.\n",
    "- q: The size of the moving average window, also called the order of moving average."
   ]
  },
  {
   "cell_type": "markdown",
   "metadata": {},
   "source": [
    "##### Detrend by Differencing to determine 'd'"
   ]
  },
  {
   "cell_type": "code",
   "execution_count": 16,
   "metadata": {},
   "outputs": [],
   "source": [
    "stock_price[\"LogPrice\"] = np.log(stock_price.Close)"
   ]
  },
  {
   "cell_type": "code",
   "execution_count": 72,
   "metadata": {},
   "outputs": [
    {
     "data": {
      "image/png": "[encoded data removed]",
      "text/plain": [
       "<Figure size 432x288 with 4 Axes>"
      ]
     },
     "metadata": {},
     "output_type": "display_data"
    }
   ],
   "source": [
    "stock_price['Diff'] = stock_price.Close - stock_price.Close.shift(1)\n",
    "\n",
    "result = seasonal_decompose(stock_price['Diff'][1:], model='additive', freq=1)\n",
    "result.plot()\n",
    "plt.show()"
   ]
  },
  {
   "cell_type": "code",
   "execution_count": 73,
   "metadata": {
    "scrolled": false
   },
   "outputs": [
    {
     "data": {
      "image/png": "[encoded data removed]",
      "text/plain": [
       "<Figure size 432x288 with 1 Axes>"
      ]
     },
     "metadata": {},
     "output_type": "display_data"
    },
    {
     "name": "stdout",
     "output_type": "stream",
     "text": [
      "Results of Dickey-Fuller Test:\n",
      "Test Statistic                  -27.333927\n",
      "p-value                           0.000000\n",
      "# Lags Used                       1.000000\n",
      "Number of Observations Used    1297.000000\n",
      "Critical Value (1%)              -3.435402\n",
      "Critical Value (5%)              -2.863771\n",
      "Critical Value (10%)             -2.567958\n",
      "dtype: float64\n"
     ]
    }
   ],
   "source": [
    "test_stationarity(df = stock_price.dropna(), ts = 'Diff')"
   ]
  },
  {
   "cell_type": "markdown",
   "metadata": {},
   "source": [
    "p-value ≤ 0.05: Reject the null hypothesis (H0), the data does not have a unit root and is stationary.\n",
    "\n",
    "ideal value for d would be 1"
   ]
  },
  {
   "cell_type": "markdown",
   "metadata": {},
   "source": [
    "##### ACF and PACF to determine p and q"
   ]
  },
  {
   "cell_type": "code",
   "execution_count": 74,
   "metadata": {},
   "outputs": [
    {
     "data": {
      "image/png": "[encoded data removed]",
      "text/plain": [
       "<Figure size 432x288 with 1 Axes>"
      ]
     },
     "metadata": {},
     "output_type": "display_data"
    }
   ],
   "source": [
    "# ACF plot of time series\n",
    "from pandas import read_csv\n",
    "from matplotlib import pyplot\n",
    "from statsmodels.graphics.tsaplots import plot_acf\n",
    "series = stock_price.Close\n",
    "plot_acf(series)\n",
    "pyplot.show()"
   ]
  },
  {
   "cell_type": "code",
   "execution_count": 75,
   "metadata": {},
   "outputs": [
    {
     "data": {
      "image/png": "[encoded data removed]",
      "text/plain": [
       "<Figure size 432x288 with 1 Axes>"
      ]
     },
     "metadata": {},
     "output_type": "display_data"
    }
   ],
   "source": [
    "# ACF plot of time series\n",
    "from pandas import read_csv\n",
    "from matplotlib import pyplot\n",
    "from statsmodels.graphics.tsaplots import plot_acf\n",
    "series = stock_price.Close\n",
    "plot_acf(series, lags=100)\n",
    "pyplot.show()"
   ]
  },
  {
   "cell_type": "code",
   "execution_count": 76,
   "metadata": {},
   "outputs": [
    {
     "data": {
      "image/png": "[encoded data removed]",
      "text/plain": [
       "<Figure size 432x288 with 1 Axes>"
      ]
     },
     "metadata": {},
     "output_type": "display_data"
    }
   ],
   "source": [
    "# PACF plot of time series\n",
    "from pandas import read_csv\n",
    "from matplotlib import pyplot\n",
    "from statsmodels.graphics.tsaplots import plot_pacf\n",
    "series = stock_price.Close\n",
    "plot_pacf(series)\n",
    "pyplot.show()"
   ]
  },
  {
   "cell_type": "code",
   "execution_count": 1,
   "metadata": {},
   "outputs": [
    {
     "ename": "NameError",
     "evalue": "name 'stock_price' is not defined",
     "output_type": "error",
     "traceback": [
      "\u001b[1;31m---------------------------------------------------------------------------\u001b[0m",
      "\u001b[1;31mNameError\u001b[0m                                 Traceback (most recent call last)",
      "\u001b[1;32m<ipython-input-1-f08da7a0fc56>\u001b[0m in \u001b[0;36m<module>\u001b[1;34m()\u001b[0m\n\u001b[0;32m      1\u001b[0m \u001b[1;31m# PACF plot of time series\u001b[0m\u001b[1;33m\u001b[0m\u001b[1;33m\u001b[0m\u001b[0m\n\u001b[1;32m----> 2\u001b[1;33m \u001b[0mseries\u001b[0m \u001b[1;33m=\u001b[0m \u001b[0mstock_price\u001b[0m\u001b[1;33m.\u001b[0m\u001b[0mClose\u001b[0m\u001b[1;33m\u001b[0m\u001b[0m\n\u001b[0m\u001b[0;32m      3\u001b[0m \u001b[0mplot_pacf\u001b[0m\u001b[1;33m(\u001b[0m\u001b[0mseries\u001b[0m\u001b[1;33m,\u001b[0m \u001b[0mlags\u001b[0m\u001b[1;33m=\u001b[0m\u001b[1;36m1\u001b[0m\u001b[1;33m)\u001b[0m\u001b[1;33m\u001b[0m\u001b[0m\n\u001b[0;32m      4\u001b[0m \u001b[0mpyplot\u001b[0m\u001b[1;33m.\u001b[0m\u001b[0mshow\u001b[0m\u001b[1;33m(\u001b[0m\u001b[1;33m)\u001b[0m\u001b[1;33m\u001b[0m\u001b[0m\n",
      "\u001b[1;31mNameError\u001b[0m: name 'stock_price' is not defined"
     ]
    }
   ],
   "source": [
    "# PACF plot of time series\n",
    "series = stock_price.Close\n",
    "plot_pacf(series, lags=50)\n",
    "pyplot.show()"
   ]
  },
  {
   "cell_type": "markdown",
   "metadata": {},
   "source": [
    "we can try different options of p and q to determine the best model with low MAPE "
   ]
  },
  {
   "cell_type": "markdown",
   "metadata": {},
   "source": [
    "## Time Series Forecasting"
   ]
  },
  {
   "cell_type": "markdown",
   "metadata": {},
   "source": [
    "### ARIMA - find the optimal value for p, q and d"
   ]
  },
  {
   "cell_type": "code",
   "execution_count": 78,
   "metadata": {},
   "outputs": [],
   "source": [
    "import warnings\n",
    "warnings.filterwarnings(\"ignore\")"
   ]
  },
  {
   "cell_type": "code",
   "execution_count": 79,
   "metadata": {},
   "outputs": [],
   "source": [
    "from statsmodels.tsa.arima_model import ARIMA\n",
    "from math import sqrt\n",
    "\n",
    "# evaluate an ARIMA model for a given order (p,d,q)\n",
    "def evaluate_arima_model(X, arima_order):\n",
    "    # prepare training dataset\n",
    "    train_size = 1000\n",
    "    train, test = X[0:train_size], X[train_size:]\n",
    "    history = [x for x in train]\n",
    "    # make predictions\n",
    "    predictions = list()\n",
    "    for t in range(len(test)):\n",
    "        model = ARIMA(history, order=arima_order)\n",
    "        model_fit = model.fit(disp=0)\n",
    "        yhat = model_fit.forecast()[0]\n",
    "        predictions.append(yhat)\n",
    "        history.append(test[t])\n",
    "    # calculate out of sample error\n",
    "    rmse = sqrt(mean_squared_error(test, predictions))\n",
    "    mape = sqrt(mean_absolute_percentage_error(test, predictions)) \n",
    "    return rmse, mape"
   ]
  },
  {
   "cell_type": "code",
   "execution_count": 80,
   "metadata": {},
   "outputs": [],
   "source": [
    "# evaluate combinations of p, d and q values for an ARIMA model\n",
    "def evaluate_models(dataset, p_values, d_values, q_values): \n",
    "    dataset = dataset.astype('float32')\n",
    "    best_score, best_cfg = float(\"inf\"), None\n",
    "    for p in p_values:\n",
    "        for d in d_values:\n",
    "            for q in q_values:\n",
    "                order = (p,d,q)\n",
    "                try:\n",
    "                    rmse, mape = evaluate_arima_model(dataset, order)\n",
    "                    if mape < best_score:\n",
    "                        best_score, best_cfg = mape, order \n",
    "                        print('ARIMA%s MAPE=%.3f' % (order,mape))\n",
    "                except:\n",
    "                    print('Skipped %s' % (order))\n",
    "                    continue\n",
    "    print('Best ARIMA%s MAPE=%.3f' % (best_cfg, best_score))"
   ]
  },
  {
   "cell_type": "code",
   "execution_count": 23,
   "metadata": {},
   "outputs": [
    {
     "name": "stdout",
     "output_type": "stream",
     "text": [
      "ARIMA(0, 1, 0) MAPE=3.303\n",
      "ARIMA(2, 1, 0) MAPE=3.303\n",
      "Best ARIMA(2, 1, 0) MAPE=3.303\n"
     ]
    }
   ],
   "source": [
    "# evaluate parameters\n",
    "p_values = [0, 1, 2]\n",
    "d_values = range(1, 3)\n",
    "q_values = range(0, 1)\n",
    "warnings.filterwarnings(\"ignore\")\n",
    "evaluate_models(series.values, p_values, d_values, q_values)"
   ]
  },
  {
   "cell_type": "markdown",
   "metadata": {},
   "source": [
    "### Fit the model with best parameters"
   ]
  },
  {
   "cell_type": "code",
   "execution_count": 81,
   "metadata": {},
   "outputs": [],
   "source": [
    "p, d, q = 12, 1,1"
   ]
  },
  {
   "cell_type": "code",
   "execution_count": 82,
   "metadata": {
    "scrolled": false
   },
   "outputs": [
    {
     "name": "stdout",
     "output_type": "stream",
     "text": [
      "predicted=574.164575, expected=576.350000\n",
      "predicted=574.837028, expected=571.725000\n",
      "predicted=570.289340, expected=575.000000\n",
      "predicted=574.281134, expected=588.550000\n",
      "predicted=588.473037, expected=592.900000\n",
      "predicted=591.156411, expected=587.700000\n",
      "predicted=586.364765, expected=591.450000\n",
      "predicted=592.116569, expected=585.325000\n",
      "predicted=584.896995, expected=575.125000\n",
      "predicted=574.901852, expected=572.300000\n",
      "predicted=572.905403, expected=571.625000\n",
      "predicted=572.464955, expected=569.100000\n",
      "predicted=569.888286, expected=553.875000\n",
      "predicted=553.718766, expected=554.525000\n",
      "predicted=555.846214, expected=567.125000\n",
      "predicted=568.353052, expected=554.575000\n",
      "predicted=554.221310, expected=551.400000\n",
      "predicted=552.852710, expected=548.875000\n",
      "predicted=549.711296, expected=557.225000\n",
      "predicted=558.553066, expected=564.025000\n",
      "predicted=563.693024, expected=565.875000\n",
      "predicted=565.254678, expected=568.475000\n",
      "predicted=568.872957, expected=573.700000\n",
      "predicted=574.192274, expected=580.375000\n",
      "predicted=579.583031, expected=577.825000\n",
      "predicted=576.964745, expected=569.300000\n",
      "predicted=569.538333, expected=575.100000\n",
      "predicted=575.748800, expected=586.300000\n",
      "predicted=585.748807, expected=580.375000\n",
      "predicted=578.776503, expected=577.950000\n",
      "predicted=578.121938, expected=575.675000\n",
      "predicted=575.915041, expected=572.050000\n",
      "predicted=572.503165, expected=578.325000\n",
      "predicted=578.583458, expected=581.700000\n",
      "predicted=581.031818, expected=592.875000\n",
      "predicted=593.439454, expected=591.900000\n",
      "predicted=591.273373, expected=590.400000\n",
      "predicted=590.139079, expected=591.250000\n",
      "predicted=591.350717, expected=585.950000\n",
      "predicted=586.196597, expected=573.375000\n",
      "predicted=573.526027, expected=582.275000\n",
      "predicted=583.455825, expected=583.750000\n",
      "predicted=582.974988, expected=580.650000\n",
      "predicted=580.589088, expected=583.800000\n",
      "predicted=583.965007, expected=577.625000\n",
      "predicted=577.458655, expected=577.000000\n",
      "predicted=578.347757, expected=565.900000\n",
      "predicted=565.940981, expected=568.575000\n",
      "predicted=569.844320, expected=570.225000\n",
      "predicted=570.722653, expected=562.100000\n",
      "predicted=562.278905, expected=573.775000\n",
      "predicted=574.498374, expected=563.500000\n",
      "predicted=562.832708, expected=555.625000\n",
      "predicted=557.037314, expected=556.700000\n",
      "predicted=557.470781, expected=562.125000\n",
      "predicted=562.692597, expected=581.300000\n",
      "predicted=581.610453, expected=585.725000\n",
      "predicted=584.504499, expected=566.600000\n",
      "predicted=565.809968, expected=562.600000\n",
      "predicted=564.427266, expected=562.975000\n",
      "predicted=563.498845, expected=566.425000\n",
      "predicted=566.533191, expected=589.225000\n",
      "predicted=589.467220, expected=593.850000\n",
      "predicted=591.684647, expected=577.250000\n",
      "predicted=576.291061, expected=580.175000\n",
      "predicted=581.014871, expected=588.225000\n",
      "predicted=587.957590, expected=592.600000\n",
      "predicted=593.054139, expected=599.750000\n",
      "predicted=599.448364, expected=598.525000\n",
      "predicted=596.987821, expected=591.275000\n",
      "predicted=591.157009, expected=586.550000\n",
      "predicted=586.639772, expected=591.500000\n",
      "predicted=591.690193, expected=582.775000\n",
      "predicted=582.891216, expected=585.350000\n",
      "predicted=586.684958, expected=584.000000\n",
      "predicted=583.135092, expected=590.375000\n",
      "predicted=590.893931, expected=594.650000\n",
      "predicted=594.286628, expected=597.275000\n",
      "predicted=597.136821, expected=594.975000\n",
      "predicted=595.151571, expected=591.450000\n",
      "predicted=592.119812, expected=591.600000\n",
      "predicted=591.993999, expected=589.750000\n",
      "predicted=589.852763, expected=596.925000\n",
      "predicted=597.365670, expected=592.450000\n",
      "predicted=591.496419, expected=610.500000\n",
      "predicted=611.198772, expected=614.150000\n",
      "predicted=612.328098, expected=607.200000\n",
      "predicted=606.938672, expected=608.350000\n",
      "predicted=608.776177, expected=605.850000\n",
      "predicted=605.970113, expected=615.900000\n",
      "predicted=616.666228, expected=610.400000\n",
      "predicted=609.139966, expected=619.700000\n",
      "predicted=619.822964, expected=610.425000\n",
      "predicted=609.323544, expected=618.725000\n",
      "predicted=619.727637, expected=626.225000\n",
      "predicted=625.043154, expected=630.025000\n",
      "predicted=630.008211, expected=631.200000\n",
      "predicted=630.718208, expected=629.250000\n",
      "predicted=629.146402, expected=637.400000\n",
      "predicted=637.411488, expected=619.850000\n",
      "predicted=619.268841, expected=640.625000\n",
      "predicted=641.832348, expected=633.700000\n",
      "predicted=631.984059, expected=620.800000\n",
      "predicted=621.762348, expected=621.575000\n",
      "predicted=621.858917, expected=623.275000\n",
      "predicted=623.737611, expected=623.925000\n",
      "predicted=624.150668, expected=636.225000\n",
      "predicted=636.801577, expected=638.925000\n",
      "predicted=637.024759, expected=635.000000\n",
      "predicted=635.971732, expected=644.800000\n",
      "predicted=644.953263, expected=653.600000\n",
      "predicted=652.595979, expected=667.350000\n",
      "predicted=667.503721, expected=676.875000\n",
      "predicted=675.441106, expected=672.600000\n",
      "predicted=670.884123, expected=642.000000\n",
      "predicted=641.691378, expected=642.125000\n",
      "predicted=644.496641, expected=649.425000\n",
      "predicted=649.448746, expected=650.700000\n",
      "predicted=650.936170, expected=660.225000\n",
      "predicted=659.279949, expected=647.175000\n",
      "predicted=645.285625, expected=658.700000\n",
      "predicted=660.549458, expected=666.425000\n",
      "predicted=666.601003, expected=663.950000\n",
      "predicted=663.800547, expected=661.275000\n",
      "predicted=662.211661, expected=658.350000\n",
      "predicted=658.792449, expected=674.050000\n",
      "predicted=673.990597, expected=677.975000\n",
      "predicted=676.925375, expected=688.575000\n",
      "predicted=687.163591, expected=691.875000\n",
      "predicted=690.741574, expected=686.625000\n",
      "predicted=686.573462, expected=686.725000\n",
      "predicted=686.664606, expected=675.500000\n",
      "predicted=675.600484, expected=682.550000\n",
      "predicted=683.533151, expected=677.025000\n",
      "predicted=676.690160, expected=676.825000\n",
      "predicted=676.882940, expected=682.050000\n",
      "predicted=681.710603, expected=680.325000\n",
      "predicted=680.524511, expected=683.975000\n",
      "predicted=684.222277, expected=681.375000\n",
      "predicted=681.914961, expected=689.975000\n",
      "predicted=690.429817, expected=692.725000\n",
      "predicted=692.803640, expected=704.375000\n",
      "predicted=704.245151, expected=704.150000\n",
      "predicted=702.651549, expected=714.775000\n",
      "predicted=715.176378, expected=715.175000\n",
      "predicted=713.650613, expected=692.125000\n",
      "predicted=692.195863, expected=691.975000\n",
      "predicted=693.230249, expected=698.700000\n",
      "predicted=699.370532, expected=689.150000\n",
      "predicted=688.761406, expected=707.700000\n",
      "predicted=708.348789, expected=712.350000\n",
      "predicted=710.062384, expected=705.050000\n",
      "predicted=705.612280, expected=708.100000\n",
      "predicted=708.979826, expected=720.550000\n",
      "predicted=720.206056, expected=717.125000\n",
      "predicted=717.337296, expected=737.150000\n",
      "predicted=738.164837, expected=729.900000\n",
      "predicted=726.136436, expected=727.150000\n",
      "predicted=728.486999, expected=732.800000\n",
      "predicted=732.203733, expected=730.850000\n",
      "predicted=730.108788, expected=734.300000\n",
      "predicted=734.796836, expected=742.900000\n",
      "predicted=742.672374, expected=733.700000\n",
      "predicted=731.982565, expected=725.950000\n",
      "predicted=727.638005, expected=719.100000\n",
      "predicted=719.142430, expected=719.750000\n",
      "predicted=721.208360, expected=705.300000\n",
      "predicted=706.531474, expected=718.250000\n",
      "predicted=719.521222, expected=726.200000\n",
      "predicted=725.190151, expected=717.850000\n",
      "predicted=718.665485, expected=724.800000\n",
      "predicted=725.090683, expected=730.050000\n",
      "predicted=729.976205, expected=746.650000\n",
      "predicted=747.741726, expected=728.500000\n",
      "predicted=727.722523, expected=707.200000\n",
      "predicted=707.800822, expected=724.600000\n",
      "predicted=726.735014, expected=714.450000\n",
      "predicted=714.335683, expected=717.750000\n",
      "predicted=718.255144, expected=700.450000\n",
      "predicted=700.118837, expected=673.350000\n",
      "predicted=676.106092, expected=678.800000\n",
      "predicted=682.401203, expected=698.800000\n",
      "predicted=699.576790, expected=695.250000\n",
      "predicted=694.121121, expected=705.350000\n",
      "predicted=707.116247, expected=683.550000\n",
      "predicted=682.033733, expected=679.950000\n",
      "predicted=684.319163, expected=657.600000\n",
      "predicted=659.193178, expected=649.800000\n",
      "predicted=652.815083, expected=648.750000\n",
      "predicted=650.069497, expected=633.600000\n",
      "predicted=634.736382, expected=644.750000\n",
      "predicted=644.918667, expected=659.600000\n",
      "predicted=659.504753, expected=686.400000\n",
      "predicted=686.857016, expected=666.700000\n",
      "predicted=665.091801, expected=662.250000\n",
      "predicted=663.683124, expected=666.000000\n",
      "predicted=666.222455, expected=666.450000\n",
      "predicted=668.259910, expected=675.500000\n",
      "predicted=673.862727, expected=659.500000\n",
      "predicted=657.781945, expected=664.200000\n",
      "predicted=664.909040, expected=665.700000\n",
      "predicted=666.103346, expected=653.200000\n",
      "predicted=653.380003, expected=656.400000\n",
      "predicted=657.044851, expected=650.850000\n",
      "predicted=651.919516, expected=651.700000\n",
      "predicted=652.325293, expected=641.400000\n",
      "predicted=642.265579, expected=619.100000\n",
      "predicted=620.292829, expected=620.750000\n",
      "predicted=623.386582, expected=621.450000\n",
      "predicted=623.208666, expected=638.900000\n",
      "predicted=639.238014, expected=666.400000\n",
      "predicted=665.130441, expected=661.050000\n",
      "predicted=659.119091, expected=667.450000\n",
      "predicted=667.403219, expected=670.350000\n",
      "predicted=669.626777, expected=685.250000\n",
      "predicted=685.721996, expected=681.400000\n",
      "predicted=679.273205, expected=668.500000\n",
      "predicted=667.511052, expected=682.800000\n",
      "predicted=681.828053, expected=669.200000\n",
      "predicted=668.705368, expected=674.500000\n",
      "predicted=674.757876, expected=678.500000\n",
      "predicted=676.790565, expected=697.750000\n",
      "predicted=699.052062, expected=706.050000\n",
      "predicted=704.021942, expected=694.400000\n",
      "predicted=694.227834, expected=676.600000\n",
      "predicted=676.020278, expected=664.850000\n",
      "predicted=668.057911, expected=667.050000\n",
      "predicted=668.445953, expected=646.200000\n",
      "predicted=646.398484, expected=649.000000\n",
      "predicted=651.110375, expected=644.050000\n",
      "predicted=643.981802, expected=656.800000\n",
      "predicted=659.919307, expected=656.950000\n",
      "predicted=655.997638, expected=658.950000\n",
      "predicted=660.825231, expected=665.050000\n",
      "predicted=664.794589, expected=669.050000\n",
      "predicted=670.376703, expected=669.150000\n",
      "predicted=667.681222, expected=661.050000\n",
      "predicted=661.076725, expected=671.700000\n",
      "predicted=671.867195, expected=670.050000\n",
      "predicted=669.247238, expected=676.100000\n",
      "predicted=676.110923, expected=679.700000\n",
      "predicted=678.087953, expected=683.500000\n",
      "predicted=684.056300, expected=701.900000\n",
      "predicted=700.895959, expected=726.600000\n",
      "predicted=725.596211, expected=736.800000\n",
      "predicted=734.072243, expected=733.350000\n",
      "predicted=731.797420, expected=730.950000\n",
      "predicted=729.659910, expected=745.000000\n",
      "predicted=744.952888, expected=745.350000\n",
      "predicted=743.911058, expected=731.650000\n",
      "predicted=729.839106, expected=732.000000\n",
      "predicted=731.733432, expected=730.350000\n",
      "predicted=730.961492, expected=727.950000\n",
      "predicted=728.389677, expected=727.900000\n",
      "predicted=727.860910, expected=725.900000\n",
      "predicted=726.677444, expected=749.550000\n",
      "predicted=751.264897, expected=757.050000\n",
      "predicted=755.859859, expected=755.900000\n",
      "predicted=755.108278, expected=754.850000\n",
      "predicted=754.647655, expected=763.300000\n",
      "predicted=764.365224, expected=764.000000\n",
      "predicted=762.632972, expected=760.900000\n",
      "predicted=760.318900, expected=762.800000\n",
      "predicted=761.646331, expected=750.450000\n",
      "predicted=750.832028, expected=754.900000\n",
      "predicted=755.637138, expected=740.050000\n",
      "predicted=739.416203, expected=741.950000\n",
      "predicted=744.434244, expected=741.050000\n",
      "predicted=741.364892, expected=724.300000\n",
      "predicted=725.840561, expected=740.700000\n",
      "predicted=741.685151, expected=733.450000\n",
      "predicted=734.298847, expected=734.950000\n",
      "predicted=736.226388, expected=754.900000\n",
      "predicted=754.808694, expected=742.500000\n",
      "predicted=742.598875, expected=735.250000\n",
      "predicted=735.778693, expected=734.300000\n",
      "predicted=734.891184, expected=741.900000\n",
      "predicted=742.401030, expected=732.500000\n",
      "predicted=732.280855, expected=732.500000\n",
      "predicted=732.853076, expected=722.950000\n",
      "predicted=722.130222, expected=712.350000\n",
      "predicted=715.640670, expected=711.250000\n",
      "predicted=711.321391, expected=706.950000\n",
      "predicted=708.417659, expected=708.450000\n",
      "predicted=709.923184, expected=708.350000\n",
      "predicted=709.085675, expected=718.550000\n",
      "predicted=719.032198, expected=710.200000\n",
      "predicted=710.277075, expected=722.250000\n",
      "predicted=723.924770, expected=738.950000\n",
      "predicted=737.758385, expected=743.100000\n",
      "predicted=743.279415, expected=735.250000\n",
      "predicted=733.249790, expected=727.750000\n",
      "predicted=727.953618, expected=729.700000\n",
      "predicted=729.819693, expected=737.800000\n",
      "predicted=738.104463, expected=743.850000\n",
      "predicted=742.038054, expected=755.100000\n",
      "predicted=754.332784, expected=759.400000\n",
      "predicted=758.868790, expected=753.300000\n",
      "predicted=752.872288, expected=747.900000\n",
      "predicted=748.208987, expected=759.300000\n",
      "Test RMSE: 9.704\n",
      "Test MAPE: 3.302\n"
     ]
    },
    {
     "data": {
      "image/png": "[encoded data removed]",
      "text/plain": [
       "<Figure size 432x288 with 1 Axes>"
      ]
     },
     "metadata": {},
     "output_type": "display_data"
    }
   ],
   "source": [
    "from statsmodels.tsa.arima_model import ARIMA\n",
    "from math import sqrt\n",
    "\n",
    "# evaluate an ARIMA model using a walk-forward validation\n",
    "\n",
    "series = stock_price.Close\n",
    "\n",
    "# split into train and test sets\n",
    "X = series.values\n",
    "size = 1000\n",
    "train, test = X[0:size], X[size:len(X)]\n",
    "history = [x for x in train]\n",
    "predictions = list()\n",
    "# walk-forward validation\n",
    "for t in range(len(test)):\n",
    "    #history = history[-30:] # to pull last 30 days\n",
    "    model = ARIMA(history, order=(p, d, q))\n",
    "    model_fit = model.fit(disp=0)\n",
    "    output = model_fit.forecast()\n",
    "    yhat = output[0]\n",
    "    predictions.append(yhat)\n",
    "    obs = test[t]\n",
    "    history.append(obs)\n",
    "    print('predicted=%f, expected=%f' % (yhat, obs))\n",
    "# evaluate forecasts\n",
    "rmse = sqrt(mean_squared_error(test, predictions)) \n",
    "print('Test RMSE: %.3f' % rmse)\n",
    "mape = sqrt(mean_absolute_percentage_error(test, predictions)) \n",
    "print('Test MAPE: %.3f' % mape)\n",
    "# plot forecasts against actual outcomes \n",
    "pyplot.plot(test)\n",
    "pyplot.plot(predictions, color='red') \n",
    "pyplot.show()"
   ]
  },
  {
   "cell_type": "code",
   "execution_count": 83,
   "metadata": {},
   "outputs": [],
   "source": [
    "test_df = pd.DataFrame(test, columns=['Actual'])"
   ]
  },
  {
   "cell_type": "code",
   "execution_count": 84,
   "metadata": {},
   "outputs": [
    {
     "data": {
      "text/plain": [
       "(300, 1)"
      ]
     },
     "execution_count": 84,
     "metadata": {},
     "output_type": "execute_result"
    }
   ],
   "source": [
    "test_df.shape"
   ]
  },
  {
   "cell_type": "code",
   "execution_count": 85,
   "metadata": {},
   "outputs": [],
   "source": [
    "test_df['Predictions'] = [i[0] for i in predictions]"
   ]
  },
  {
   "cell_type": "code",
   "execution_count": 86,
   "metadata": {
    "scrolled": false
   },
   "outputs": [
    {
     "data": {
      "text/html": [
       "<div>\n",
       "<style scoped>\n",
       "    .dataframe tbody tr th:only-of-type {\n",
       "        vertical-align: middle;\n",
       "    }\n",
       "\n",
       "    .dataframe tbody tr th {\n",
       "        vertical-align: top;\n",
       "    }\n",
       "\n",
       "    .dataframe thead th {\n",
       "        text-align: right;\n",
       "    }\n",
       "</style>\n",
       "<table border=\"1\" class=\"dataframe\">\n",
       "  <thead>\n",
       "    <tr style=\"text-align: right;\">\n",
       "      <th></th>\n",
       "      <th>Actual</th>\n",
       "      <th>Predictions</th>\n",
       "    </tr>\n",
       "  </thead>\n",
       "  <tbody>\n",
       "    <tr>\n",
       "      <th>0</th>\n",
       "      <td>576.350</td>\n",
       "      <td>574.164575</td>\n",
       "    </tr>\n",
       "    <tr>\n",
       "      <th>1</th>\n",
       "      <td>571.725</td>\n",
       "      <td>574.837028</td>\n",
       "    </tr>\n",
       "    <tr>\n",
       "      <th>2</th>\n",
       "      <td>575.000</td>\n",
       "      <td>570.289340</td>\n",
       "    </tr>\n",
       "    <tr>\n",
       "      <th>3</th>\n",
       "      <td>588.550</td>\n",
       "      <td>574.281134</td>\n",
       "    </tr>\n",
       "    <tr>\n",
       "      <th>4</th>\n",
       "      <td>592.900</td>\n",
       "      <td>588.473037</td>\n",
       "    </tr>\n",
       "  </tbody>\n",
       "</table>\n",
       "</div>"
      ],
      "text/plain": [
       "    Actual  Predictions\n",
       "0  576.350   574.164575\n",
       "1  571.725   574.837028\n",
       "2  575.000   570.289340\n",
       "3  588.550   574.281134\n",
       "4  592.900   588.473037"
      ]
     },
     "execution_count": 86,
     "metadata": {},
     "output_type": "execute_result"
    }
   ],
   "source": [
    "test_df.head()"
   ]
  },
  {
   "cell_type": "code",
   "execution_count": 87,
   "metadata": {},
   "outputs": [],
   "source": [
    "test_df['ActualTrend'] = test_df['Actual'] - test_df['Actual'].shift(1)\n",
    "test_df['PredictionTrend'] = test_df['Predictions'] - test_df['Actual'].shift(1)"
   ]
  },
  {
   "cell_type": "code",
   "execution_count": 88,
   "metadata": {},
   "outputs": [],
   "source": [
    "test_df['ActualTrend'] = test_df['ActualTrend'].shift(-1)\n",
    "test_df['PredictionTrend'] = test_df['PredictionTrend'].shift(-1)"
   ]
  },
  {
   "cell_type": "code",
   "execution_count": 89,
   "metadata": {},
   "outputs": [
    {
     "data": {
      "text/html": [
       "<div>\n",
       "<style scoped>\n",
       "    .dataframe tbody tr th:only-of-type {\n",
       "        vertical-align: middle;\n",
       "    }\n",
       "\n",
       "    .dataframe tbody tr th {\n",
       "        vertical-align: top;\n",
       "    }\n",
       "\n",
       "    .dataframe thead th {\n",
       "        text-align: right;\n",
       "    }\n",
       "</style>\n",
       "<table border=\"1\" class=\"dataframe\">\n",
       "  <thead>\n",
       "    <tr style=\"text-align: right;\">\n",
       "      <th></th>\n",
       "      <th>Actual</th>\n",
       "      <th>Predictions</th>\n",
       "      <th>ActualTrend</th>\n",
       "      <th>PredictionTrend</th>\n",
       "    </tr>\n",
       "  </thead>\n",
       "  <tbody>\n",
       "    <tr>\n",
       "      <th>0</th>\n",
       "      <td>576.350</td>\n",
       "      <td>574.164575</td>\n",
       "      <td>-4.625</td>\n",
       "      <td>-1.512972</td>\n",
       "    </tr>\n",
       "    <tr>\n",
       "      <th>1</th>\n",
       "      <td>571.725</td>\n",
       "      <td>574.837028</td>\n",
       "      <td>3.275</td>\n",
       "      <td>-1.435660</td>\n",
       "    </tr>\n",
       "    <tr>\n",
       "      <th>2</th>\n",
       "      <td>575.000</td>\n",
       "      <td>570.289340</td>\n",
       "      <td>13.550</td>\n",
       "      <td>-0.718866</td>\n",
       "    </tr>\n",
       "    <tr>\n",
       "      <th>3</th>\n",
       "      <td>588.550</td>\n",
       "      <td>574.281134</td>\n",
       "      <td>4.350</td>\n",
       "      <td>-0.076963</td>\n",
       "    </tr>\n",
       "    <tr>\n",
       "      <th>4</th>\n",
       "      <td>592.900</td>\n",
       "      <td>588.473037</td>\n",
       "      <td>-5.200</td>\n",
       "      <td>-1.743589</td>\n",
       "    </tr>\n",
       "    <tr>\n",
       "      <th>5</th>\n",
       "      <td>587.700</td>\n",
       "      <td>591.156411</td>\n",
       "      <td>3.750</td>\n",
       "      <td>-1.335235</td>\n",
       "    </tr>\n",
       "    <tr>\n",
       "      <th>6</th>\n",
       "      <td>591.450</td>\n",
       "      <td>586.364765</td>\n",
       "      <td>-6.125</td>\n",
       "      <td>0.666569</td>\n",
       "    </tr>\n",
       "    <tr>\n",
       "      <th>7</th>\n",
       "      <td>585.325</td>\n",
       "      <td>592.116569</td>\n",
       "      <td>-10.200</td>\n",
       "      <td>-0.428005</td>\n",
       "    </tr>\n",
       "    <tr>\n",
       "      <th>8</th>\n",
       "      <td>575.125</td>\n",
       "      <td>584.896995</td>\n",
       "      <td>-2.825</td>\n",
       "      <td>-0.223148</td>\n",
       "    </tr>\n",
       "    <tr>\n",
       "      <th>9</th>\n",
       "      <td>572.300</td>\n",
       "      <td>574.901852</td>\n",
       "      <td>-0.675</td>\n",
       "      <td>0.605403</td>\n",
       "    </tr>\n",
       "  </tbody>\n",
       "</table>\n",
       "</div>"
      ],
      "text/plain": [
       "    Actual  Predictions  ActualTrend  PredictionTrend\n",
       "0  576.350   574.164575       -4.625        -1.512972\n",
       "1  571.725   574.837028        3.275        -1.435660\n",
       "2  575.000   570.289340       13.550        -0.718866\n",
       "3  588.550   574.281134        4.350        -0.076963\n",
       "4  592.900   588.473037       -5.200        -1.743589\n",
       "5  587.700   591.156411        3.750        -1.335235\n",
       "6  591.450   586.364765       -6.125         0.666569\n",
       "7  585.325   592.116569      -10.200        -0.428005\n",
       "8  575.125   584.896995       -2.825        -0.223148\n",
       "9  572.300   574.901852       -0.675         0.605403"
      ]
     },
     "execution_count": 89,
     "metadata": {},
     "output_type": "execute_result"
    }
   ],
   "source": [
    "test_df.head(10)"
   ]
  },
  {
   "cell_type": "code",
   "execution_count": 90,
   "metadata": {},
   "outputs": [],
   "source": [
    "\n",
    "test_df.dropna(inplace=True)\n",
    "test_df['ActualTrend'] = test_df['ActualTrend'].apply(lambda x: 'Up' if x >= 0 else 'Down')\n",
    "test_df['PredictionTrend'] = test_df['PredictionTrend'].apply(lambda x: 'Up' if x >= 0 else 'Down')"
   ]
  },
  {
   "cell_type": "code",
   "execution_count": 91,
   "metadata": {},
   "outputs": [],
   "source": [
    "from sklearn.metrics import accuracy_score"
   ]
  },
  {
   "cell_type": "markdown",
   "metadata": {},
   "source": [
    "### Accuracy of the Model"
   ]
  },
  {
   "cell_type": "code",
   "execution_count": 92,
   "metadata": {},
   "outputs": [
    {
     "data": {
      "text/plain": [
       "0.5752508361204013"
      ]
     },
     "execution_count": 92,
     "metadata": {},
     "output_type": "execute_result"
    }
   ],
   "source": [
    "accuracy_score(test_df['ActualTrend'], test_df['PredictionTrend'])"
   ]
  },
  {
   "cell_type": "code",
   "execution_count": 93,
   "metadata": {},
   "outputs": [
    {
     "data": {
      "text/html": [
       "<div>\n",
       "<style scoped>\n",
       "    .dataframe tbody tr th:only-of-type {\n",
       "        vertical-align: middle;\n",
       "    }\n",
       "\n",
       "    .dataframe tbody tr th {\n",
       "        vertical-align: top;\n",
       "    }\n",
       "\n",
       "    .dataframe thead th {\n",
       "        text-align: right;\n",
       "    }\n",
       "</style>\n",
       "<table border=\"1\" class=\"dataframe\">\n",
       "  <thead>\n",
       "    <tr style=\"text-align: right;\">\n",
       "      <th></th>\n",
       "      <th>Actual</th>\n",
       "      <th>Predictions</th>\n",
       "      <th>ActualTrend</th>\n",
       "      <th>PredictionTrend</th>\n",
       "    </tr>\n",
       "  </thead>\n",
       "  <tbody>\n",
       "    <tr>\n",
       "      <th>0</th>\n",
       "      <td>576.350</td>\n",
       "      <td>574.164575</td>\n",
       "      <td>Down</td>\n",
       "      <td>Down</td>\n",
       "    </tr>\n",
       "    <tr>\n",
       "      <th>1</th>\n",
       "      <td>571.725</td>\n",
       "      <td>574.837028</td>\n",
       "      <td>Up</td>\n",
       "      <td>Down</td>\n",
       "    </tr>\n",
       "    <tr>\n",
       "      <th>2</th>\n",
       "      <td>575.000</td>\n",
       "      <td>570.289340</td>\n",
       "      <td>Up</td>\n",
       "      <td>Down</td>\n",
       "    </tr>\n",
       "    <tr>\n",
       "      <th>3</th>\n",
       "      <td>588.550</td>\n",
       "      <td>574.281134</td>\n",
       "      <td>Up</td>\n",
       "      <td>Down</td>\n",
       "    </tr>\n",
       "    <tr>\n",
       "      <th>4</th>\n",
       "      <td>592.900</td>\n",
       "      <td>588.473037</td>\n",
       "      <td>Down</td>\n",
       "      <td>Down</td>\n",
       "    </tr>\n",
       "  </tbody>\n",
       "</table>\n",
       "</div>"
      ],
      "text/plain": [
       "    Actual  Predictions ActualTrend PredictionTrend\n",
       "0  576.350   574.164575        Down            Down\n",
       "1  571.725   574.837028          Up            Down\n",
       "2  575.000   570.289340          Up            Down\n",
       "3  588.550   574.281134          Up            Down\n",
       "4  592.900   588.473037        Down            Down"
      ]
     },
     "execution_count": 93,
     "metadata": {},
     "output_type": "execute_result"
    }
   ],
   "source": [
    "test_df.head()"
   ]
  },
  {
   "cell_type": "code",
   "execution_count": 94,
   "metadata": {},
   "outputs": [],
   "source": [
    "test_df.to_csv(\"arima_12.csv\")"
   ]
  },
  {
   "cell_type": "code",
   "execution_count": 95,
   "metadata": {},
   "outputs": [],
   "source": [
    "from sklearn.metrics import confusion_matrix"
   ]
  },
  {
   "cell_type": "code",
   "execution_count": 96,
   "metadata": {},
   "outputs": [
    {
     "data": {
      "text/plain": [
       "array([[ 67,  67],\n",
       "       [ 60, 105]], dtype=int64)"
      ]
     },
     "execution_count": 96,
     "metadata": {},
     "output_type": "execute_result"
    }
   ],
   "source": [
    "confusion_matrix(test_df['ActualTrend'], test_df['PredictionTrend'])"
   ]
  },
  {
   "cell_type": "code",
   "execution_count": 97,
   "metadata": {},
   "outputs": [],
   "source": [
    "from sklearn import metrics"
   ]
  },
  {
   "cell_type": "code",
   "execution_count": 98,
   "metadata": {},
   "outputs": [
    {
     "name": "stdout",
     "output_type": "stream",
     "text": [
      "             precision    recall  f1-score   support\n",
      "\n",
      "       Down       0.53      0.50      0.51       134\n",
      "         Up       0.61      0.64      0.62       165\n",
      "\n",
      "avg / total       0.57      0.58      0.57       299\n",
      "\n"
     ]
    }
   ],
   "source": [
    "print(metrics.classification_report(test_df['ActualTrend'], test_df['PredictionTrend']))"
   ]
  },
  {
   "cell_type": "code",
   "execution_count": null,
   "metadata": {},
   "outputs": [],
   "source": []
  }
 ],
 "metadata": {
  "hide_input": false,
  "kernel_info": {
   "name": "runbabyrun"
  },
  "kernelspec": {
   "display_name": "Python 3",
   "language": "python",
   "name": "python3"
  },
  "language_info": {
   "codemirror_mode": {
    "name": "ipython",
    "version": 3
   },
   "file_extension": ".py",
   "mimetype": "text/x-python",
   "name": "python",
   "nbconvert_exporter": "python",
   "pygments_lexer": "ipython3",
   "version": "3.6.5"
  },
  "nteract": {
   "version": "0.14.3"
  },
  "toc": {
   "base_numbering": 1,
   "nav_menu": {},
   "number_sections": true,
   "sideBar": true,
   "skip_h1_title": false,
   "title_cell": "Table of Contents",
   "title_sidebar": "Contents",
   "toc_cell": false,
   "toc_position": {
    "height": "calc(100% - 180px)",
    "left": "10px",
    "top": "150px",
    "width": "293.796875px"
   },
   "toc_section_display": true,
   "toc_window_display": true
  }
 },
 "nbformat": 4,
 "nbformat_minor": 2
}
