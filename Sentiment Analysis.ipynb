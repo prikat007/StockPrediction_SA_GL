{
 "cells": [
  {
   "cell_type": "code",
   "execution_count": 1,
   "metadata": {},
   "outputs": [
    {
     "name": "stderr",
     "output_type": "stream",
     "text": [
      "Loading required package: bitops\n",
      "Loading required package: NLP\n",
      "\n",
      "Attaching package: 'NLP'\n",
      "\n",
      "The following object is masked from 'package:httr':\n",
      "\n",
      "    content\n",
      "\n",
      "Loading required package: RColorBrewer\n"
     ]
    }
   ],
   "source": [
    "#load required libraries for sentiment analysis\n",
    "library(twitteR)\n",
    "library(RCurl)\n",
    "library(httr)\n",
    "library(tm)\n",
    "library(wordcloud)\n",
    "library(syuzhet)\n",
    "library(SnowballC)"
   ]
  },
  {
   "cell_type": "code",
   "execution_count": 3,
   "metadata": {},
   "outputs": [],
   "source": [
    "infy = read.csv(\"C:/Users/Sudhahar/Desktop/TwitterDataInfy.csv\")"
   ]
  },
  {
   "cell_type": "code",
   "execution_count": 5,
   "metadata": {},
   "outputs": [
    {
     "data": {
      "text/html": [
       "<table>\n",
       "<thead><tr><th scope=col>username</th><th scope=col>to</th><th scope=col>text</th><th scope=col>date</th><th scope=col>retweets</th><th scope=col>favorites</th><th scope=col>mentions</th><th scope=col>hashtags</th><th scope=col>geo</th></tr></thead>\n",
       "<tbody>\n",
       "\t<tr><td>AliceWi33                                                                                                                                                                                                         </td><td>                                                                                                                                                                                                                  </td><td>RBS deal loss: Infosys says wonâ€™t cut 3,000 jobs, but will reallocate them in other projects: RBS announced l... http://bc.vc/apT5Wt8                                                                           </td><td>17-08-2016                                                                                                                                                                                                        </td><td>0                                                                                                                                                                                                                 </td><td>0                                                                                                                                                                                                                 </td><td>                                                                                                                                                                                                                  </td><td>                                                                                                                                                                                                                  </td><td>NA                                                                                                                                                                                                                </td></tr>\n",
       "\t<tr><td>TandMProdCo                                                                                                                                                                                                       </td><td>                                                                                                                                                                                                                  </td><td>Big News Network - Infosys to sack 3,000 techies as Scottish bank cancels deal http://bit.ly/2bBUS4u                                                                                                              </td><td>17-08-2016                                                                                                                                                                                                        </td><td>0                                                                                                                                                                                                                 </td><td>0                                                                                                                                                                                                                 </td><td>                                                                                                                                                                                                                  </td><td>                                                                                                                                                                                                                  </td><td>NA                                                                                                                                                                                                                </td></tr>\n",
       "\t<tr><td>Audrey4f                                                                                                                                                                                                          </td><td>                                                                                                                                                                                                                  </td><td>RBS deal loss: Infosys says wonâ€™t cut 3,000 jobs, but will reallocate them in other projects: RBS announced l... http://bc.vc/apT5Wt8                                                                           </td><td>17-08-2016                                                                                                                                                                                                        </td><td>0                                                                                                                                                                                                                 </td><td>0                                                                                                                                                                                                                 </td><td>                                                                                                                                                                                                                  </td><td>                                                                                                                                                                                                                  </td><td>NA                                                                                                                                                                                                                </td></tr>\n",
       "\t<tr><td>rampalsingh                                                                                                                                                                                                       </td><td>                                                                                                                                                                                                                  </td><td>3,000 jobs to get affected post RBS project scrap: #Infosys - http://ecoti.in/0t6l1Y                                                                                                                              </td><td>17-08-2016                                                                                                                                                                                                        </td><td>0                                                                                                                                                                                                                 </td><td>0                                                                                                                                                                                                                 </td><td>                                                                                                                                                                                                                  </td><td>#Infosys                                                                                                                                                                                                          </td><td>NA                                                                                                                                                                                                                </td></tr>\n",
       "\t<tr><td>Cognicenti                                                                                                                                                                                                        </td><td>                                                                                                                                                                                                                  </td><td>If it is not a fact nothing is true in this world INDIAN JINGOISM HAS NO MATCH                                                                                                                                    </td><td>17-08-2016                                                                                                                                                                                                        </td><td>0                                                                                                                                                                                                                 </td><td>0                                                                                                                                                                                                                 </td><td>                                                                                                                                                                                                                  </td><td>                                                                                                                                                                                                                  </td><td>NA                                                                                                                                                                                                                </td></tr>\n",
       "\t<tr><td>khanadid                                                                                                                                                                                                          </td><td>                                                                                                                                                                                                                  </td><td>BT_India: Sensex, Nifty close lower, Infosys erases losses http://www.businesstoday.in/markets/stocks/sensex-nifty-trading-asian-markets-us-markets-august-16-2016/story/236125.html â€¦pic.twitter.com/m2lBgL15Cm</td><td>17-08-2016                                                                                                                                                                                                        </td><td>0                                                                                                                                                                                                                 </td><td>0                                                                                                                                                                                                                 </td><td>                                                                                                                                                                                                                  </td><td>                                                                                                                                                                                                                  </td><td>NA                                                                                                                                                                                                                </td></tr>\n",
       "</tbody>\n",
       "</table>\n"
      ],
      "text/latex": [
       "\\begin{tabular}{r|lllllllll}\n",
       " username & to & text & date & retweets & favorites & mentions & hashtags & geo\\\\\n",
       "\\hline\n",
       "\t AliceWi33                                                                                                                                                                                                          &                                                                                                                                                                                                                    & RBS deal loss: Infosys says wonâ€™t cut 3,000 jobs, but will reallocate them in other projects: RBS announced l... http://bc.vc/apT5Wt8                                                                            & 17-08-2016                                                                                                                                                                                                         & 0                                                                                                                                                                                                                  & 0                                                                                                                                                                                                                  &                                                                                                                                                                                                                    &                                                                                                                                                                                                                    & NA                                                                                                                                                                                                                \\\\\n",
       "\t TandMProdCo                                                                                                                                                                                                        &                                                                                                                                                                                                                    & Big News Network - Infosys to sack 3,000 techies as Scottish bank cancels deal http://bit.ly/2bBUS4u                                                                                                               & 17-08-2016                                                                                                                                                                                                         & 0                                                                                                                                                                                                                  & 0                                                                                                                                                                                                                  &                                                                                                                                                                                                                    &                                                                                                                                                                                                                    & NA                                                                                                                                                                                                                \\\\\n",
       "\t Audrey4f                                                                                                                                                                                                           &                                                                                                                                                                                                                    & RBS deal loss: Infosys says wonâ€™t cut 3,000 jobs, but will reallocate them in other projects: RBS announced l... http://bc.vc/apT5Wt8                                                                            & 17-08-2016                                                                                                                                                                                                         & 0                                                                                                                                                                                                                  & 0                                                                                                                                                                                                                  &                                                                                                                                                                                                                    &                                                                                                                                                                                                                    & NA                                                                                                                                                                                                                \\\\\n",
       "\t rampalsingh                                                                                                                                                                                                          &                                                                                                                                                                                                                      & 3,000 jobs to get affected post RBS project scrap: \\#Infosys - http://ecoti.in/0t6l1Y                                                                                                                               & 17-08-2016                                                                                                                                                                                                           & 0                                                                                                                                                                                                                    & 0                                                                                                                                                                                                                    &                                                                                                                                                                                                                      & \\#Infosys                                                                                                                                                                                                           & NA                                                                                                                                                                                                                  \\\\\n",
       "\t Cognicenti                                                                                                                                                                                                         &                                                                                                                                                                                                                    & If it is not a fact nothing is true in this world INDIAN JINGOISM HAS NO MATCH                                                                                                                                     & 17-08-2016                                                                                                                                                                                                         & 0                                                                                                                                                                                                                  & 0                                                                                                                                                                                                                  &                                                                                                                                                                                                                    &                                                                                                                                                                                                                    & NA                                                                                                                                                                                                                \\\\\n",
       "\t khanadid                                                                                                                                                                                                             &                                                                                                                                                                                                                      & BT\\_India: Sensex, Nifty close lower, Infosys erases losses http://www.businesstoday.in/markets/stocks/sensex-nifty-trading-asian-markets-us-markets-august-16-2016/story/236125.html â€¦pic.twitter.com/m2lBgL15Cm & 17-08-2016                                                                                                                                                                                                           & 0                                                                                                                                                                                                                    & 0                                                                                                                                                                                                                    &                                                                                                                                                                                                                      &                                                                                                                                                                                                                      & NA                                                                                                                                                                                                                  \\\\\n",
       "\\end{tabular}\n"
      ],
      "text/markdown": [
       "\n",
       "username | to | text | date | retweets | favorites | mentions | hashtags | geo | \n",
       "|---|---|---|---|---|---|\n",
       "| AliceWi33                                                                                                                                                                                                          |                                                                                                                                                                                                                    | RBS deal loss: Infosys says wonâ€™t cut 3,000 jobs, but will reallocate them in other projects: RBS announced l... http://bc.vc/apT5Wt8                                                                            | 17-08-2016                                                                                                                                                                                                         | 0                                                                                                                                                                                                                  | 0                                                                                                                                                                                                                  |                                                                                                                                                                                                                    |                                                                                                                                                                                                                    | NA                                                                                                                                                                                                                 | \n",
       "| TandMProdCo                                                                                                                                                                                                        |                                                                                                                                                                                                                    | Big News Network - Infosys to sack 3,000 techies as Scottish bank cancels deal http://bit.ly/2bBUS4u                                                                                                               | 17-08-2016                                                                                                                                                                                                         | 0                                                                                                                                                                                                                  | 0                                                                                                                                                                                                                  |                                                                                                                                                                                                                    |                                                                                                                                                                                                                    | NA                                                                                                                                                                                                                 | \n",
       "| Audrey4f                                                                                                                                                                                                           |                                                                                                                                                                                                                    | RBS deal loss: Infosys says wonâ€™t cut 3,000 jobs, but will reallocate them in other projects: RBS announced l... http://bc.vc/apT5Wt8                                                                            | 17-08-2016                                                                                                                                                                                                         | 0                                                                                                                                                                                                                  | 0                                                                                                                                                                                                                  |                                                                                                                                                                                                                    |                                                                                                                                                                                                                    | NA                                                                                                                                                                                                                 | \n",
       "| rampalsingh                                                                                                                                                                                                        |                                                                                                                                                                                                                    | 3,000 jobs to get affected post RBS project scrap: #Infosys - http://ecoti.in/0t6l1Y                                                                                                                               | 17-08-2016                                                                                                                                                                                                         | 0                                                                                                                                                                                                                  | 0                                                                                                                                                                                                                  |                                                                                                                                                                                                                    | #Infosys                                                                                                                                                                                                           | NA                                                                                                                                                                                                                 | \n",
       "| Cognicenti                                                                                                                                                                                                         |                                                                                                                                                                                                                    | If it is not a fact nothing is true in this world INDIAN JINGOISM HAS NO MATCH                                                                                                                                     | 17-08-2016                                                                                                                                                                                                         | 0                                                                                                                                                                                                                  | 0                                                                                                                                                                                                                  |                                                                                                                                                                                                                    |                                                                                                                                                                                                                    | NA                                                                                                                                                                                                                 | \n",
       "| khanadid                                                                                                                                                                                                           |                                                                                                                                                                                                                    | BT_India: Sensex, Nifty close lower, Infosys erases losses http://www.businesstoday.in/markets/stocks/sensex-nifty-trading-asian-markets-us-markets-august-16-2016/story/236125.html â€¦pic.twitter.com/m2lBgL15Cm | 17-08-2016                                                                                                                                                                                                         | 0                                                                                                                                                                                                                  | 0                                                                                                                                                                                                                  |                                                                                                                                                                                                                    |                                                                                                                                                                                                                    | NA                                                                                                                                                                                                                 | \n",
       "\n",
       "\n"
      ],
      "text/plain": [
       "  username    to\n",
       "1 AliceWi33     \n",
       "2 TandMProdCo   \n",
       "3 Audrey4f      \n",
       "4 rampalsingh   \n",
       "5 Cognicenti    \n",
       "6 khanadid      \n",
       "  text                                                                                                                                                                                                              \n",
       "1 RBS deal loss: Infosys says wonât cut 3,000 jobs, but will reallocate them in other projects: RBS announced l... http://bc.vc/apT5Wt8                                                                           \n",
       "2 Big News Network - Infosys to sack 3,000 techies as Scottish bank cancels deal http://bit.ly/2bBUS4u                                                                                                              \n",
       "3 RBS deal loss: Infosys says wonât cut 3,000 jobs, but will reallocate them in other projects: RBS announced l... http://bc.vc/apT5Wt8                                                                           \n",
       "4 3,000 jobs to get affected post RBS project scrap: #Infosys - http://ecoti.in/0t6l1Y                                                                                                                              \n",
       "5 If it is not a fact nothing is true in this world INDIAN JINGOISM HAS NO MATCH                                                                                                                                    \n",
       "6 BT_India: Sensex, Nifty close lower, Infosys erases losses http://www.businesstoday.in/markets/stocks/sensex-nifty-trading-asian-markets-us-markets-august-16-2016/story/236125.html â¦pic.twitter.com/m2lBgL15Cm\n",
       "  date       retweets favorites mentions hashtags geo\n",
       "1 17-08-2016 0        0                           NA \n",
       "2 17-08-2016 0        0                           NA \n",
       "3 17-08-2016 0        0                           NA \n",
       "4 17-08-2016 0        0                  #Infosys NA \n",
       "5 17-08-2016 0        0                           NA \n",
       "6 17-08-2016 0        0                           NA "
      ]
     },
     "metadata": {},
     "output_type": "display_data"
    }
   ],
   "source": [
    "head(infy[,-c(1,2)])"
   ]
  },
  {
   "cell_type": "code",
   "execution_count": 6,
   "metadata": {},
   "outputs": [],
   "source": [
    "infy = infy[,c(\"text\",\"date\")]"
   ]
  },
  {
   "cell_type": "code",
   "execution_count": 10,
   "metadata": {},
   "outputs": [
    {
     "data": {
      "text/html": [
       "<table>\n",
       "<thead><tr><th scope=col>text</th><th scope=col>date</th></tr></thead>\n",
       "<tbody>\n",
       "\t<tr><td>RBS deal loss: Infosys says wonâ€™t cut 3,000 jobs, but will reallocate them in other projects: RBS announced l... http://bc.vc/apT5Wt8                                                                             </td><td>17-08-2016                                                                                                                                                                                                          </td></tr>\n",
       "\t<tr><td>Big News Network - Infosys to sack 3,000 techies as Scottish bank cancels deal http://bit.ly/2bBUS4u                                                                                                                </td><td>17-08-2016                                                                                                                                                                                                          </td></tr>\n",
       "\t<tr><td>RBS deal loss: Infosys says wonâ€™t cut 3,000 jobs, but will reallocate them in other projects: RBS announced l... http://bc.vc/apT5Wt8                                                                             </td><td>17-08-2016                                                                                                                                                                                                          </td></tr>\n",
       "\t<tr><td>3,000 jobs to get affected post RBS project scrap: #Infosys - http://ecoti.in/0t6l1Y                                                                                                                                </td><td>17-08-2016                                                                                                                                                                                                          </td></tr>\n",
       "\t<tr><td>If it is not a fact nothing is true in this world INDIAN JINGOISM HAS NO MATCH                                                                                                                                      </td><td>17-08-2016                                                                                                                                                                                                          </td></tr>\n",
       "\t<tr><td>BT_India: Sensex, Nifty close lower, Infosys erases losses http://www.businesstoday.in/markets/stocks/sensex-nifty-trading-asian-markets-us-markets-august-16-2016/story/236125.html â€¦pic.twitter.com/m2lBgL15Cm  </td><td>17-08-2016                                                                                                                                                                                                          </td></tr>\n",
       "\t<tr><td>#Infosys to sack 3,000 techies as #Scottish bank cancels deal #RBS #ArunJaitley http://www.freepressjournal.in/india/infosys-to-sack-3000-techies-as-scottish-bank-cancels-deal/911392 â€¦pic.twitter.com/1wEPhZNfEF</td><td>17-08-2016                                                                                                                                                                                                          </td></tr>\n",
       "\t<tr><td>@Infosys loses RBS deal, a sale on the horizon I see. May be.                                                                                                                                                       </td><td>17-08-2016                                                                                                                                                                                                          </td></tr>\n",
       "\t<tr><td>ETTN Infosys says employees impacted by RBS deal loss will be reallocated, not fired: MUMBAI: Infosys said th... http://bit.ly/2bmKc5d                                                                              </td><td>17-08-2016                                                                                                                                                                                                          </td></tr>\n",
       "\t<tr><td>ETTN Mapping the market: Crude shock for Infosys, Unitech; broader market still firm: NEW DELHI: Ouch! That h... http://bit.ly/2aX1AN6                                                                              </td><td>17-08-2016                                                                                                                                                                                                          </td></tr>\n",
       "</tbody>\n",
       "</table>\n"
      ],
      "text/latex": [
       "\\begin{tabular}{r|ll}\n",
       " text & date\\\\\n",
       "\\hline\n",
       "\t RBS deal loss: Infosys says wonâ€™t cut 3,000 jobs, but will reallocate them in other projects: RBS announced l... http://bc.vc/apT5Wt8                                                                              & 17-08-2016                                                                                                                                                                                                          \\\\\n",
       "\t Big News Network - Infosys to sack 3,000 techies as Scottish bank cancels deal http://bit.ly/2bBUS4u                                                                                                                 & 17-08-2016                                                                                                                                                                                                          \\\\\n",
       "\t RBS deal loss: Infosys says wonâ€™t cut 3,000 jobs, but will reallocate them in other projects: RBS announced l... http://bc.vc/apT5Wt8                                                                              & 17-08-2016                                                                                                                                                                                                          \\\\\n",
       "\t 3,000 jobs to get affected post RBS project scrap: \\#Infosys - http://ecoti.in/0t6l1Y                                                                                                                                 & 17-08-2016                                                                                                                                                                                                            \\\\\n",
       "\t If it is not a fact nothing is true in this world INDIAN JINGOISM HAS NO MATCH                                                                                                                                       & 17-08-2016                                                                                                                                                                                                          \\\\\n",
       "\t BT\\_India: Sensex, Nifty close lower, Infosys erases losses http://www.businesstoday.in/markets/stocks/sensex-nifty-trading-asian-markets-us-markets-august-16-2016/story/236125.html â€¦pic.twitter.com/m2lBgL15Cm   & 17-08-2016                                                                                                                                                                                                            \\\\\n",
       "\t \\#Infosys to sack 3,000 techies as \\#Scottish bank cancels deal \\#RBS \\#ArunJaitley http://www.freepressjournal.in/india/infosys-to-sack-3000-techies-as-scottish-bank-cancels-deal/911392 â€¦pic.twitter.com/1wEPhZNfEF & 17-08-2016                                                                                                                                                                                                                  \\\\\n",
       "\t @Infosys loses RBS deal, a sale on the horizon I see. May be.                                                                                                                                                        & 17-08-2016                                                                                                                                                                                                          \\\\\n",
       "\t ETTN Infosys says employees impacted by RBS deal loss will be reallocated, not fired: MUMBAI: Infosys said th... http://bit.ly/2bmKc5d                                                                               & 17-08-2016                                                                                                                                                                                                          \\\\\n",
       "\t ETTN Mapping the market: Crude shock for Infosys, Unitech; broader market still firm: NEW DELHI: Ouch! That h... http://bit.ly/2aX1AN6                                                                               & 17-08-2016                                                                                                                                                                                                          \\\\\n",
       "\\end{tabular}\n"
      ],
      "text/markdown": [
       "\n",
       "text | date | \n",
       "|---|---|---|---|---|---|---|---|---|---|\n",
       "| RBS deal loss: Infosys says wonâ€™t cut 3,000 jobs, but will reallocate them in other projects: RBS announced l... http://bc.vc/apT5Wt8                                                                              | 17-08-2016                                                                                                                                                                                                           | \n",
       "| Big News Network - Infosys to sack 3,000 techies as Scottish bank cancels deal http://bit.ly/2bBUS4u                                                                                                                 | 17-08-2016                                                                                                                                                                                                           | \n",
       "| RBS deal loss: Infosys says wonâ€™t cut 3,000 jobs, but will reallocate them in other projects: RBS announced l... http://bc.vc/apT5Wt8                                                                              | 17-08-2016                                                                                                                                                                                                           | \n",
       "| 3,000 jobs to get affected post RBS project scrap: #Infosys - http://ecoti.in/0t6l1Y                                                                                                                                 | 17-08-2016                                                                                                                                                                                                           | \n",
       "| If it is not a fact nothing is true in this world INDIAN JINGOISM HAS NO MATCH                                                                                                                                       | 17-08-2016                                                                                                                                                                                                           | \n",
       "| BT_India: Sensex, Nifty close lower, Infosys erases losses http://www.businesstoday.in/markets/stocks/sensex-nifty-trading-asian-markets-us-markets-august-16-2016/story/236125.html â€¦pic.twitter.com/m2lBgL15Cm   | 17-08-2016                                                                                                                                                                                                           | \n",
       "| #Infosys to sack 3,000 techies as #Scottish bank cancels deal #RBS #ArunJaitley http://www.freepressjournal.in/india/infosys-to-sack-3000-techies-as-scottish-bank-cancels-deal/911392 â€¦pic.twitter.com/1wEPhZNfEF | 17-08-2016                                                                                                                                                                                                           | \n",
       "| @Infosys loses RBS deal, a sale on the horizon I see. May be.                                                                                                                                                        | 17-08-2016                                                                                                                                                                                                           | \n",
       "| ETTN Infosys says employees impacted by RBS deal loss will be reallocated, not fired: MUMBAI: Infosys said th... http://bit.ly/2bmKc5d                                                                               | 17-08-2016                                                                                                                                                                                                           | \n",
       "| ETTN Mapping the market: Crude shock for Infosys, Unitech; broader market still firm: NEW DELHI: Ouch! That h... http://bit.ly/2aX1AN6                                                                               | 17-08-2016                                                                                                                                                                                                           | \n",
       "\n",
       "\n"
      ],
      "text/plain": [
       "   text                                                                                                                                                                                                                \n",
       "1  RBS deal loss: Infosys says wonât cut 3,000 jobs, but will reallocate them in other projects: RBS announced l... http://bc.vc/apT5Wt8                                                                             \n",
       "2  Big News Network - Infosys to sack 3,000 techies as Scottish bank cancels deal http://bit.ly/2bBUS4u                                                                                                                \n",
       "3  RBS deal loss: Infosys says wonât cut 3,000 jobs, but will reallocate them in other projects: RBS announced l... http://bc.vc/apT5Wt8                                                                             \n",
       "4  3,000 jobs to get affected post RBS project scrap: #Infosys - http://ecoti.in/0t6l1Y                                                                                                                                \n",
       "5  If it is not a fact nothing is true in this world INDIAN JINGOISM HAS NO MATCH                                                                                                                                      \n",
       "6  BT_India: Sensex, Nifty close lower, Infosys erases losses http://www.businesstoday.in/markets/stocks/sensex-nifty-trading-asian-markets-us-markets-august-16-2016/story/236125.html â¦pic.twitter.com/m2lBgL15Cm  \n",
       "7  #Infosys to sack 3,000 techies as #Scottish bank cancels deal #RBS #ArunJaitley http://www.freepressjournal.in/india/infosys-to-sack-3000-techies-as-scottish-bank-cancels-deal/911392 â¦pic.twitter.com/1wEPhZNfEF\n",
       "8  @Infosys loses RBS deal, a sale on the horizon I see. May be.                                                                                                                                                       \n",
       "9  ETTN Infosys says employees impacted by RBS deal loss will be reallocated, not fired: MUMBAI: Infosys said th... http://bit.ly/2bmKc5d                                                                              \n",
       "10 ETTN Mapping the market: Crude shock for Infosys, Unitech; broader market still firm: NEW DELHI: Ouch! That h... http://bit.ly/2aX1AN6                                                                              \n",
       "   date      \n",
       "1  17-08-2016\n",
       "2  17-08-2016\n",
       "3  17-08-2016\n",
       "4  17-08-2016\n",
       "5  17-08-2016\n",
       "6  17-08-2016\n",
       "7  17-08-2016\n",
       "8  17-08-2016\n",
       "9  17-08-2016\n",
       "10 17-08-2016"
      ]
     },
     "metadata": {},
     "output_type": "display_data"
    }
   ],
   "source": [
    "head(infy,10)"
   ]
  },
  {
   "cell_type": "code",
   "execution_count": 11,
   "metadata": {},
   "outputs": [],
   "source": [
    "#text cleaning\n",
    "infy$text=gsub(\"&amp\", \"\", infy$text)\n",
    "infy$text = gsub(\"&amp\", \"\", infy$text)\n",
    "infy$text = gsub(\"(RT|via)((?:\\\\b\\\\W*@\\\\w+)+)\", \"\", infy$text)\n",
    "infy$text = gsub(\"@\\\\w+\", \"\", infy$text)\n",
    "infy$text = gsub(\"[[:punct:]]\", \"\", infy$text)\n",
    "infy$text = gsub(\"[[:digit:]]\", \"\", infy$text)\n",
    "infy$text = gsub(\"http\\\\w+\", \"\", infy$text)\n",
    "infy$text = gsub(\"[ \\t]{2,}\", \"\", infy$text)\n",
    "infy$text = gsub(\"^\\\\s+|\\\\s+$\", \"\", infy$text)\n",
    "\n",
    "infy$text <- iconv(infy$text, \"UTF-8\", \"ASCII\", sub=\"\")"
   ]
  },
  {
   "cell_type": "code",
   "execution_count": 14,
   "metadata": {},
   "outputs": [
    {
     "data": {
      "text/html": [
       "<table>\n",
       "<thead><tr><th scope=col>text</th><th scope=col>date</th></tr></thead>\n",
       "<tbody>\n",
       "\t<tr><td>RBS deal loss Infosys says wont cutjobs but will reallocate them in other projects RBS announced l</td><td>17-08-2016                                                                                        </td></tr>\n",
       "\t<tr><td>Big News NetworkInfosys to sacktechies as Scottish bank cancels deal                              </td><td>17-08-2016                                                                                        </td></tr>\n",
       "\t<tr><td>RBS deal loss Infosys says wont cutjobs but will reallocate them in other projects RBS announced l</td><td>17-08-2016                                                                                        </td></tr>\n",
       "\t<tr><td>jobs to get affected post RBS project scrap Infosys                                               </td><td>17-08-2016                                                                                        </td></tr>\n",
       "\t<tr><td>If it is not a fact nothing is true in this world INDIAN JINGOISM HAS NO MATCH                    </td><td>17-08-2016                                                                                        </td></tr>\n",
       "\t<tr><td>BTIndia Sensex Nifty close lower Infosys erases lossespictwittercommlBgLCm                        </td><td>17-08-2016                                                                                        </td></tr>\n",
       "</tbody>\n",
       "</table>\n"
      ],
      "text/latex": [
       "\\begin{tabular}{r|ll}\n",
       " text & date\\\\\n",
       "\\hline\n",
       "\t RBS deal loss Infosys says wont cutjobs but will reallocate them in other projects RBS announced l & 17-08-2016                                                                                        \\\\\n",
       "\t Big News NetworkInfosys to sacktechies as Scottish bank cancels deal                               & 17-08-2016                                                                                        \\\\\n",
       "\t RBS deal loss Infosys says wont cutjobs but will reallocate them in other projects RBS announced l & 17-08-2016                                                                                        \\\\\n",
       "\t jobs to get affected post RBS project scrap Infosys                                                & 17-08-2016                                                                                        \\\\\n",
       "\t If it is not a fact nothing is true in this world INDIAN JINGOISM HAS NO MATCH                     & 17-08-2016                                                                                        \\\\\n",
       "\t BTIndia Sensex Nifty close lower Infosys erases lossespictwittercommlBgLCm                         & 17-08-2016                                                                                        \\\\\n",
       "\\end{tabular}\n"
      ],
      "text/markdown": [
       "\n",
       "text | date | \n",
       "|---|---|---|---|---|---|\n",
       "| RBS deal loss Infosys says wont cutjobs but will reallocate them in other projects RBS announced l | 17-08-2016                                                                                         | \n",
       "| Big News NetworkInfosys to sacktechies as Scottish bank cancels deal                               | 17-08-2016                                                                                         | \n",
       "| RBS deal loss Infosys says wont cutjobs but will reallocate them in other projects RBS announced l | 17-08-2016                                                                                         | \n",
       "| jobs to get affected post RBS project scrap Infosys                                                | 17-08-2016                                                                                         | \n",
       "| If it is not a fact nothing is true in this world INDIAN JINGOISM HAS NO MATCH                     | 17-08-2016                                                                                         | \n",
       "| BTIndia Sensex Nifty close lower Infosys erases lossespictwittercommlBgLCm                         | 17-08-2016                                                                                         | \n",
       "\n",
       "\n"
      ],
      "text/plain": [
       "  text                                                                                              \n",
       "1 RBS deal loss Infosys says wont cutjobs but will reallocate them in other projects RBS announced l\n",
       "2 Big News NetworkInfosys to sacktechies as Scottish bank cancels deal                              \n",
       "3 RBS deal loss Infosys says wont cutjobs but will reallocate them in other projects RBS announced l\n",
       "4 jobs to get affected post RBS project scrap Infosys                                               \n",
       "5 If it is not a fact nothing is true in this world INDIAN JINGOISM HAS NO MATCH                    \n",
       "6 BTIndia Sensex Nifty close lower Infosys erases lossespictwittercommlBgLCm                        \n",
       "  date      \n",
       "1 17-08-2016\n",
       "2 17-08-2016\n",
       "3 17-08-2016\n",
       "4 17-08-2016\n",
       "5 17-08-2016\n",
       "6 17-08-2016"
      ]
     },
     "metadata": {},
     "output_type": "display_data"
    }
   ],
   "source": [
    "head(infy)"
   ]
  },
  {
   "cell_type": "code",
   "execution_count": 12,
   "metadata": {},
   "outputs": [],
   "source": [
    "#calculate sentiment value for each twit\n",
    "sent.value = get_sentiment(infy$text,method = \"nrc\")"
   ]
  },
  {
   "cell_type": "code",
   "execution_count": 16,
   "metadata": {},
   "outputs": [],
   "source": [
    "category_senti = ifelse(sent.value < 0, \"Negative\", ifelse(sent.value > 0, \"Positive\", \"Neutral\"))"
   ]
  },
  {
   "cell_type": "code",
   "execution_count": 17,
   "metadata": {},
   "outputs": [],
   "source": [
    "infy$Polarity = category_senti"
   ]
  },
  {
   "cell_type": "code",
   "execution_count": 18,
   "metadata": {},
   "outputs": [
    {
     "data": {
      "text/plain": [
       "\n",
       "Negative  Neutral Positive \n",
       "   87381   370511   312674 "
      ]
     },
     "metadata": {},
     "output_type": "display_data"
    }
   ],
   "source": [
    "table(infy$Polarity )"
   ]
  },
  {
   "cell_type": "code",
   "execution_count": 21,
   "metadata": {},
   "outputs": [
    {
     "data": {
      "image/png": "[encoded data removed]",
      "text/plain": [
       "plot without title"
      ]
     },
     "metadata": {},
     "output_type": "display_data"
    }
   ],
   "source": [
    "corpusABG = Corpus(VectorSource(infy$text))\n",
    "wordcloud(corpusABG,colors=rainbow(7),max.words=50)"
   ]
  },
  {
   "cell_type": "code",
   "execution_count": 22,
   "metadata": {},
   "outputs": [],
   "source": [
    "#build corpus bag of words\n",
    "corpusABG = tm_map(corpusABG, tolower)\n",
    "corpusABG = tm_map(corpusABG, removePunctuation)\n",
    "corpusABG = tm_map(corpusABG, removeWords, c(stopwords(\"english\")))\n",
    "corpusABG = tm_map(corpusABG, stemDocument)"
   ]
  },
  {
   "cell_type": "code",
   "execution_count": 28,
   "metadata": {},
   "outputs": [
    {
     "data": {
      "image/png": "[encoded data removed]",
      "text/plain": [
       "plot without title"
      ]
     },
     "metadata": {},
     "output_type": "display_data"
    }
   ],
   "source": [
    "wordcloud(corpusABG,colors=rainbow(7),max.words=50)"
   ]
  },
  {
   "cell_type": "code",
   "execution_count": 26,
   "metadata": {},
   "outputs": [
    {
     "data": {
      "text/html": [
       "<ol class=list-inline>\n",
       "\t<li>'SimpleCorpus'</li>\n",
       "\t<li>'Corpus'</li>\n",
       "</ol>\n"
      ],
      "text/latex": [
       "\\begin{enumerate*}\n",
       "\\item 'SimpleCorpus'\n",
       "\\item 'Corpus'\n",
       "\\end{enumerate*}\n"
      ],
      "text/markdown": [
       "1. 'SimpleCorpus'\n",
       "2. 'Corpus'\n",
       "\n",
       "\n"
      ],
      "text/plain": [
       "[1] \"SimpleCorpus\" \"Corpus\"      "
      ]
     },
     "metadata": {},
     "output_type": "display_data"
    }
   ],
   "source": [
    "class(corpusABG)"
   ]
  },
  {
   "cell_type": "code",
   "execution_count": null,
   "metadata": {},
   "outputs": [],
   "source": []
  }
 ],
 "metadata": {
  "kernelspec": {
   "display_name": "R",
   "language": "R",
   "name": "ir"
  },
  "language_info": {
   "codemirror_mode": "r",
   "file_extension": ".r",
   "mimetype": "text/x-r-source",
   "name": "R",
   "pygments_lexer": "r",
   "version": "3.4.3"
  }
 },
 "nbformat": 4,
 "nbformat_minor": 2
}
